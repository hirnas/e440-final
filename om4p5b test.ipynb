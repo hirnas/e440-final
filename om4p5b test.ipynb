{
 "cells": [
  {
   "cell_type": "code",
   "execution_count": null,
   "metadata": {},
   "outputs": [
    {
     "data": {
      "text/plain": [
       "<dask.config.set at 0x14dae679ea0>"
      ]
     },
     "execution_count": 1,
     "metadata": {},
     "output_type": "execute_result"
    }
   ],
   "source": [
    "import intake\n",
    "import xarray as xr\n",
    "import matplotlib.pyplot as plt\n",
    "import numpy as np\n",
    "import intake_esm\n",
    "#url = intake_esm.tutorial.get_url('google_cmip6')\n",
    "#p\n",
    "url =\"https://raw.githubusercontent.com/NOAA-GFDL/intake-esm-datastore/master/catalogs/pangeo-cmip6.json\"\n",
    "\n",
    "import dask\n",
    "\n",
    "dask.config.set(scheduler='threads')\n",
    "dask.config.set(num_workers=20)  # Adjust based on your CPU coresl =\"https://raw.githubusercontent.com/NOAA-GFDL/intake-esm-datastore/master/catalogs/pangeo-cmip6.json\"\n"
   ]
  },
  {
   "cell_type": "markdown",
   "metadata": {},
   "source": [
    "let us load the data"
   ]
  },
  {
   "cell_type": "code",
   "execution_count": 2,
   "metadata": {},
   "outputs": [
    {
     "data": {
      "text/html": [
       "<p><strong>pangeo-cmip6 catalog with 7674 dataset(s) from 514818 asset(s)</strong>:</p> <div>\n",
       "<style scoped>\n",
       "    .dataframe tbody tr th:only-of-type {\n",
       "        vertical-align: middle;\n",
       "    }\n",
       "\n",
       "    .dataframe tbody tr th {\n",
       "        vertical-align: top;\n",
       "    }\n",
       "\n",
       "    .dataframe thead th {\n",
       "        text-align: right;\n",
       "    }\n",
       "</style>\n",
       "<table border=\"1\" class=\"dataframe\">\n",
       "  <thead>\n",
       "    <tr style=\"text-align: right;\">\n",
       "      <th></th>\n",
       "      <th>unique</th>\n",
       "    </tr>\n",
       "  </thead>\n",
       "  <tbody>\n",
       "    <tr>\n",
       "      <th>activity_id</th>\n",
       "      <td>18</td>\n",
       "    </tr>\n",
       "    <tr>\n",
       "      <th>institution_id</th>\n",
       "      <td>36</td>\n",
       "    </tr>\n",
       "    <tr>\n",
       "      <th>source_id</th>\n",
       "      <td>88</td>\n",
       "    </tr>\n",
       "    <tr>\n",
       "      <th>experiment_id</th>\n",
       "      <td>170</td>\n",
       "    </tr>\n",
       "    <tr>\n",
       "      <th>member_id</th>\n",
       "      <td>657</td>\n",
       "    </tr>\n",
       "    <tr>\n",
       "      <th>table_id</th>\n",
       "      <td>37</td>\n",
       "    </tr>\n",
       "    <tr>\n",
       "      <th>variable_id</th>\n",
       "      <td>700</td>\n",
       "    </tr>\n",
       "    <tr>\n",
       "      <th>grid_label</th>\n",
       "      <td>10</td>\n",
       "    </tr>\n",
       "    <tr>\n",
       "      <th>zstore</th>\n",
       "      <td>514818</td>\n",
       "    </tr>\n",
       "    <tr>\n",
       "      <th>dcpp_init_year</th>\n",
       "      <td>60</td>\n",
       "    </tr>\n",
       "    <tr>\n",
       "      <th>version</th>\n",
       "      <td>736</td>\n",
       "    </tr>\n",
       "    <tr>\n",
       "      <th>derived_variable_id</th>\n",
       "      <td>0</td>\n",
       "    </tr>\n",
       "  </tbody>\n",
       "</table>\n",
       "</div>"
      ],
      "text/plain": [
       "<IPython.core.display.HTML object>"
      ]
     },
     "metadata": {},
     "output_type": "display_data"
    }
   ],
   "source": [
    "cat = intake.open_esm_datastore(url)\n",
    "cat"
   ]
  },
  {
   "cell_type": "markdown",
   "metadata": {},
   "source": [
    "let us extract GFDL-OM4p5B OMIP data from the main dataset."
   ]
  },
  {
   "cell_type": "markdown",
   "metadata": {},
   "source": [
    "it seems that there are 2 separate member_ids, let us separate the two."
   ]
  },
  {
   "cell_type": "code",
   "execution_count": 19,
   "metadata": {},
   "outputs": [
    {
     "data": {
      "text/html": [
       "<div>\n",
       "<style scoped>\n",
       "    .dataframe tbody tr th:only-of-type {\n",
       "        vertical-align: middle;\n",
       "    }\n",
       "\n",
       "    .dataframe tbody tr th {\n",
       "        vertical-align: top;\n",
       "    }\n",
       "\n",
       "    .dataframe thead th {\n",
       "        text-align: right;\n",
       "    }\n",
       "</style>\n",
       "<table border=\"1\" class=\"dataframe\">\n",
       "  <thead>\n",
       "    <tr style=\"text-align: right;\">\n",
       "      <th></th>\n",
       "      <th>activity_id</th>\n",
       "      <th>institution_id</th>\n",
       "      <th>source_id</th>\n",
       "      <th>experiment_id</th>\n",
       "      <th>member_id</th>\n",
       "      <th>table_id</th>\n",
       "      <th>variable_id</th>\n",
       "      <th>grid_label</th>\n",
       "      <th>zstore</th>\n",
       "      <th>dcpp_init_year</th>\n",
       "      <th>version</th>\n",
       "    </tr>\n",
       "  </thead>\n",
       "  <tbody>\n",
       "    <tr>\n",
       "      <th>0</th>\n",
       "      <td>OMIP</td>\n",
       "      <td>NOAA-GFDL</td>\n",
       "      <td>GFDL-OM4p5B</td>\n",
       "      <td>omip1</td>\n",
       "      <td>r1i1p1f1</td>\n",
       "      <td>Omon</td>\n",
       "      <td>ph</td>\n",
       "      <td>gr</td>\n",
       "      <td>gs://cmip6/CMIP6/OMIP/NOAA-GFDL/GFDL-OM4p5B/om...</td>\n",
       "      <td>NaN</td>\n",
       "      <td>20180701</td>\n",
       "    </tr>\n",
       "    <tr>\n",
       "      <th>1</th>\n",
       "      <td>OMIP</td>\n",
       "      <td>NOAA-GFDL</td>\n",
       "      <td>GFDL-OM4p5B</td>\n",
       "      <td>omip1</td>\n",
       "      <td>r1i1p1f1</td>\n",
       "      <td>Omon</td>\n",
       "      <td>dissic</td>\n",
       "      <td>gr</td>\n",
       "      <td>gs://cmip6/CMIP6/OMIP/NOAA-GFDL/GFDL-OM4p5B/om...</td>\n",
       "      <td>NaN</td>\n",
       "      <td>20180701</td>\n",
       "    </tr>\n",
       "    <tr>\n",
       "      <th>2</th>\n",
       "      <td>OMIP</td>\n",
       "      <td>NOAA-GFDL</td>\n",
       "      <td>GFDL-OM4p5B</td>\n",
       "      <td>omip1</td>\n",
       "      <td>r1i1p1f1</td>\n",
       "      <td>Omon</td>\n",
       "      <td>chl</td>\n",
       "      <td>gr</td>\n",
       "      <td>gs://cmip6/CMIP6/OMIP/NOAA-GFDL/GFDL-OM4p5B/om...</td>\n",
       "      <td>NaN</td>\n",
       "      <td>20180701</td>\n",
       "    </tr>\n",
       "    <tr>\n",
       "      <th>3</th>\n",
       "      <td>OMIP</td>\n",
       "      <td>NOAA-GFDL</td>\n",
       "      <td>GFDL-OM4p5B</td>\n",
       "      <td>omip1</td>\n",
       "      <td>r1i1p1f1</td>\n",
       "      <td>Omon</td>\n",
       "      <td>so</td>\n",
       "      <td>gr</td>\n",
       "      <td>gs://cmip6/CMIP6/OMIP/NOAA-GFDL/GFDL-OM4p5B/om...</td>\n",
       "      <td>NaN</td>\n",
       "      <td>20180701</td>\n",
       "    </tr>\n",
       "  </tbody>\n",
       "</table>\n",
       "</div>"
      ],
      "text/plain": [
       "  activity_id institution_id    source_id experiment_id member_id table_id  \\\n",
       "0        OMIP      NOAA-GFDL  GFDL-OM4p5B         omip1  r1i1p1f1     Omon   \n",
       "1        OMIP      NOAA-GFDL  GFDL-OM4p5B         omip1  r1i1p1f1     Omon   \n",
       "2        OMIP      NOAA-GFDL  GFDL-OM4p5B         omip1  r1i1p1f1     Omon   \n",
       "3        OMIP      NOAA-GFDL  GFDL-OM4p5B         omip1  r1i1p1f1     Omon   \n",
       "\n",
       "  variable_id grid_label                                             zstore  \\\n",
       "0          ph         gr  gs://cmip6/CMIP6/OMIP/NOAA-GFDL/GFDL-OM4p5B/om...   \n",
       "1      dissic         gr  gs://cmip6/CMIP6/OMIP/NOAA-GFDL/GFDL-OM4p5B/om...   \n",
       "2         chl         gr  gs://cmip6/CMIP6/OMIP/NOAA-GFDL/GFDL-OM4p5B/om...   \n",
       "3          so         gr  gs://cmip6/CMIP6/OMIP/NOAA-GFDL/GFDL-OM4p5B/om...   \n",
       "\n",
       "   dcpp_init_year   version  \n",
       "0             NaN  20180701  \n",
       "1             NaN  20180701  \n",
       "2             NaN  20180701  \n",
       "3             NaN  20180701  "
      ]
     },
     "execution_count": 19,
     "metadata": {},
     "output_type": "execute_result"
    }
   ],
   "source": [
    "GFDL_OM4p5B_filtered_vol = cat.search(\n",
    "    activity_id = 'OMIP',\n",
    "    source_id = 'GFDL-OM4p5B',\n",
    "    member_id = 'r1i1p1f1',\n",
    "    grid_label = 'gr',\n",
    "    variable_id = ['dissic', 'no3', 'ph', 'so', 'chl', 'pp']\n",
    ")\n",
    "GFDL_OM4p5B_filtered_vol.df"
   ]
  },
  {
   "cell_type": "code",
   "execution_count": 20,
   "metadata": {},
   "outputs": [
    {
     "data": {
      "text/html": [
       "<div>\n",
       "<style scoped>\n",
       "    .dataframe tbody tr th:only-of-type {\n",
       "        vertical-align: middle;\n",
       "    }\n",
       "\n",
       "    .dataframe tbody tr th {\n",
       "        vertical-align: top;\n",
       "    }\n",
       "\n",
       "    .dataframe thead th {\n",
       "        text-align: right;\n",
       "    }\n",
       "</style>\n",
       "<table border=\"1\" class=\"dataframe\">\n",
       "  <thead>\n",
       "    <tr style=\"text-align: right;\">\n",
       "      <th></th>\n",
       "      <th>activity_id</th>\n",
       "      <th>institution_id</th>\n",
       "      <th>source_id</th>\n",
       "      <th>experiment_id</th>\n",
       "      <th>member_id</th>\n",
       "      <th>table_id</th>\n",
       "      <th>variable_id</th>\n",
       "      <th>grid_label</th>\n",
       "      <th>zstore</th>\n",
       "      <th>dcpp_init_year</th>\n",
       "      <th>version</th>\n",
       "    </tr>\n",
       "  </thead>\n",
       "  <tbody>\n",
       "    <tr>\n",
       "      <th>0</th>\n",
       "      <td>OMIP</td>\n",
       "      <td>NOAA-GFDL</td>\n",
       "      <td>GFDL-OM4p5B</td>\n",
       "      <td>omip1</td>\n",
       "      <td>r1i1p1f1</td>\n",
       "      <td>Omon</td>\n",
       "      <td>fgco2</td>\n",
       "      <td>gr</td>\n",
       "      <td>gs://cmip6/CMIP6/OMIP/NOAA-GFDL/GFDL-OM4p5B/om...</td>\n",
       "      <td>NaN</td>\n",
       "      <td>20180701</td>\n",
       "    </tr>\n",
       "  </tbody>\n",
       "</table>\n",
       "</div>"
      ],
      "text/plain": [
       "  activity_id institution_id    source_id experiment_id member_id table_id  \\\n",
       "0        OMIP      NOAA-GFDL  GFDL-OM4p5B         omip1  r1i1p1f1     Omon   \n",
       "\n",
       "  variable_id grid_label                                             zstore  \\\n",
       "0       fgco2         gr  gs://cmip6/CMIP6/OMIP/NOAA-GFDL/GFDL-OM4p5B/om...   \n",
       "\n",
       "   dcpp_init_year   version  \n",
       "0             NaN  20180701  "
      ]
     },
     "execution_count": 20,
     "metadata": {},
     "output_type": "execute_result"
    }
   ],
   "source": [
    "GFDL_OM4p5B_filtered_area = cat.search(\n",
    "    activity_id = 'OMIP',\n",
    "    source_id = 'GFDL-OM4p5B',\n",
    "    member_id = 'r1i1p1f1',\n",
    "    grid_label = 'gr',\n",
    "    variable_id = ['dpco2', 'fgco2', 'intdic', 'phos', 'spco2']\n",
    ")\n",
    "GFDL_OM4p5B_filtered_area.df"
   ]
  },
  {
   "cell_type": "code",
   "execution_count": 21,
   "metadata": {},
   "outputs": [
    {
     "data": {
      "text/html": [
       "<div>\n",
       "<style scoped>\n",
       "    .dataframe tbody tr th:only-of-type {\n",
       "        vertical-align: middle;\n",
       "    }\n",
       "\n",
       "    .dataframe tbody tr th {\n",
       "        vertical-align: top;\n",
       "    }\n",
       "\n",
       "    .dataframe thead th {\n",
       "        text-align: right;\n",
       "    }\n",
       "</style>\n",
       "<table border=\"1\" class=\"dataframe\">\n",
       "  <thead>\n",
       "    <tr style=\"text-align: right;\">\n",
       "      <th></th>\n",
       "      <th>activity_id</th>\n",
       "      <th>institution_id</th>\n",
       "      <th>source_id</th>\n",
       "      <th>experiment_id</th>\n",
       "      <th>member_id</th>\n",
       "      <th>table_id</th>\n",
       "      <th>variable_id</th>\n",
       "      <th>grid_label</th>\n",
       "      <th>zstore</th>\n",
       "      <th>dcpp_init_year</th>\n",
       "      <th>version</th>\n",
       "    </tr>\n",
       "  </thead>\n",
       "  <tbody>\n",
       "    <tr>\n",
       "      <th>0</th>\n",
       "      <td>OMIP</td>\n",
       "      <td>NOAA-GFDL</td>\n",
       "      <td>GFDL-OM4p5B</td>\n",
       "      <td>omip1</td>\n",
       "      <td>r1i1p1f1</td>\n",
       "      <td>Omon</td>\n",
       "      <td>talk</td>\n",
       "      <td>gr</td>\n",
       "      <td>gs://cmip6/CMIP6/OMIP/NOAA-GFDL/GFDL-OM4p5B/om...</td>\n",
       "      <td>NaN</td>\n",
       "      <td>20180701</td>\n",
       "    </tr>\n",
       "  </tbody>\n",
       "</table>\n",
       "</div>"
      ],
      "text/plain": [
       "  activity_id institution_id    source_id experiment_id member_id table_id  \\\n",
       "0        OMIP      NOAA-GFDL  GFDL-OM4p5B         omip1  r1i1p1f1     Omon   \n",
       "\n",
       "  variable_id grid_label                                             zstore  \\\n",
       "0        talk         gr  gs://cmip6/CMIP6/OMIP/NOAA-GFDL/GFDL-OM4p5B/om...   \n",
       "\n",
       "   dcpp_init_year   version  \n",
       "0             NaN  20180701  "
      ]
     },
     "execution_count": 21,
     "metadata": {},
     "output_type": "execute_result"
    }
   ],
   "source": [
    "GFDL_OM4p5B_filtered_norm = cat.search(\n",
    "    activity_id = 'OMIP',\n",
    "    source_id = 'GFDL-OM4p5B',\n",
    "    member_id = 'r1i1p1f1',\n",
    "    grid_label = 'gr',\n",
    "    variable_id = ['zsatarag', 'talk']\n",
    ")\n",
    "GFDL_OM4p5B_filtered_norm.df"
   ]
  },
  {
   "cell_type": "code",
   "execution_count": 22,
   "metadata": {},
   "outputs": [
    {
     "data": {
      "text/html": [
       "<div>\n",
       "<style scoped>\n",
       "    .dataframe tbody tr th:only-of-type {\n",
       "        vertical-align: middle;\n",
       "    }\n",
       "\n",
       "    .dataframe tbody tr th {\n",
       "        vertical-align: top;\n",
       "    }\n",
       "\n",
       "    .dataframe thead th {\n",
       "        text-align: right;\n",
       "    }\n",
       "</style>\n",
       "<table border=\"1\" class=\"dataframe\">\n",
       "  <thead>\n",
       "    <tr style=\"text-align: right;\">\n",
       "      <th></th>\n",
       "      <th>activity_id</th>\n",
       "      <th>institution_id</th>\n",
       "      <th>source_id</th>\n",
       "      <th>experiment_id</th>\n",
       "      <th>member_id</th>\n",
       "      <th>table_id</th>\n",
       "      <th>variable_id</th>\n",
       "      <th>grid_label</th>\n",
       "      <th>zstore</th>\n",
       "      <th>dcpp_init_year</th>\n",
       "      <th>version</th>\n",
       "    </tr>\n",
       "  </thead>\n",
       "  <tbody>\n",
       "    <tr>\n",
       "      <th>0</th>\n",
       "      <td>OMIP</td>\n",
       "      <td>NOAA-GFDL</td>\n",
       "      <td>GFDL-OM4p5B</td>\n",
       "      <td>omip1</td>\n",
       "      <td>r1i1p1f1</td>\n",
       "      <td>Ofx</td>\n",
       "      <td>areacello</td>\n",
       "      <td>gr</td>\n",
       "      <td>gs://cmip6/CMIP6/OMIP/NOAA-GFDL/GFDL-OM4p5B/om...</td>\n",
       "      <td>NaN</td>\n",
       "      <td>20180701</td>\n",
       "    </tr>\n",
       "    <tr>\n",
       "      <th>1</th>\n",
       "      <td>OMIP</td>\n",
       "      <td>NOAA-GFDL</td>\n",
       "      <td>GFDL-OM4p5B</td>\n",
       "      <td>omip1</td>\n",
       "      <td>r1i1p1f1</td>\n",
       "      <td>Omon</td>\n",
       "      <td>volcello</td>\n",
       "      <td>gr</td>\n",
       "      <td>gs://cmip6/CMIP6/OMIP/NOAA-GFDL/GFDL-OM4p5B/om...</td>\n",
       "      <td>NaN</td>\n",
       "      <td>20180701</td>\n",
       "    </tr>\n",
       "  </tbody>\n",
       "</table>\n",
       "</div>"
      ],
      "text/plain": [
       "  activity_id institution_id    source_id experiment_id member_id table_id  \\\n",
       "0        OMIP      NOAA-GFDL  GFDL-OM4p5B         omip1  r1i1p1f1      Ofx   \n",
       "1        OMIP      NOAA-GFDL  GFDL-OM4p5B         omip1  r1i1p1f1     Omon   \n",
       "\n",
       "  variable_id grid_label                                             zstore  \\\n",
       "0   areacello         gr  gs://cmip6/CMIP6/OMIP/NOAA-GFDL/GFDL-OM4p5B/om...   \n",
       "1    volcello         gr  gs://cmip6/CMIP6/OMIP/NOAA-GFDL/GFDL-OM4p5B/om...   \n",
       "\n",
       "   dcpp_init_year   version  \n",
       "0             NaN  20180701  \n",
       "1             NaN  20180701  "
      ]
     },
     "execution_count": 22,
     "metadata": {},
     "output_type": "execute_result"
    }
   ],
   "source": [
    "GFDL_OM4p5B_filtered_cello = cat.search(\n",
    "    activity_id = 'OMIP',\n",
    "    source_id = 'GFDL-OM4p5B',\n",
    "    member_id = 'r1i1p1f1',\n",
    "    grid_label = 'gr',\n",
    "    variable_id = ['areacello', 'volcello']\n",
    ")\n",
    "GFDL_OM4p5B_filtered_cello.df"
   ]
  },
  {
   "cell_type": "markdown",
   "metadata": {},
   "source": [
    "let us now load all the actual data."
   ]
  },
  {
   "cell_type": "code",
   "execution_count": 23,
   "metadata": {},
   "outputs": [
    {
     "name": "stdout",
     "output_type": "stream",
     "text": [
      "\n",
      "--> The keys in the returned dictionary of datasets are constructed as follows:\n",
      "\t'activity_id.institution_id.source_id.experiment_id.table_id.grid_label'\n"
     ]
    },
    {
     "data": {
      "text/html": [
       "\n",
       "<style>\n",
       "    /* Turns off some styling */\n",
       "    progress {\n",
       "        /* gets rid of default border in Firefox and Opera. */\n",
       "        border: none;\n",
       "        /* Needs to be in here for Safari polyfill so background images work as expected. */\n",
       "        background-size: auto;\n",
       "    }\n",
       "    progress:not([value]), progress:not([value])::-webkit-progress-bar {\n",
       "        background: repeating-linear-gradient(45deg, #7e7e7e, #7e7e7e 10px, #5c5c5c 10px, #5c5c5c 20px);\n",
       "    }\n",
       "    .progress-bar-interrupted, .progress-bar-interrupted::-webkit-progress-bar {\n",
       "        background: #F44336;\n",
       "    }\n",
       "</style>\n"
      ],
      "text/plain": [
       "<IPython.core.display.HTML object>"
      ]
     },
     "metadata": {},
     "output_type": "display_data"
    },
    {
     "data": {
      "text/html": [
       "\n",
       "    <div>\n",
       "      <progress value='1' class='' max='1' style='width:300px; height:20px; vertical-align: middle;'></progress>\n",
       "      100.00% [1/1 00:30&lt;00:00]\n",
       "    </div>\n",
       "    "
      ],
      "text/plain": [
       "<IPython.core.display.HTML object>"
      ]
     },
     "metadata": {},
     "output_type": "display_data"
    },
    {
     "name": "stdout",
     "output_type": "stream",
     "text": [
      "\n",
      "--> The keys in the returned dictionary of datasets are constructed as follows:\n",
      "\t'activity_id.institution_id.source_id.experiment_id.table_id.grid_label'\n"
     ]
    },
    {
     "data": {
      "text/html": [
       "\n",
       "<style>\n",
       "    /* Turns off some styling */\n",
       "    progress {\n",
       "        /* gets rid of default border in Firefox and Opera. */\n",
       "        border: none;\n",
       "        /* Needs to be in here for Safari polyfill so background images work as expected. */\n",
       "        background-size: auto;\n",
       "    }\n",
       "    progress:not([value]), progress:not([value])::-webkit-progress-bar {\n",
       "        background: repeating-linear-gradient(45deg, #7e7e7e, #7e7e7e 10px, #5c5c5c 10px, #5c5c5c 20px);\n",
       "    }\n",
       "    .progress-bar-interrupted, .progress-bar-interrupted::-webkit-progress-bar {\n",
       "        background: #F44336;\n",
       "    }\n",
       "</style>\n"
      ],
      "text/plain": [
       "<IPython.core.display.HTML object>"
      ]
     },
     "metadata": {},
     "output_type": "display_data"
    },
    {
     "data": {
      "text/html": [
       "\n",
       "    <div>\n",
       "      <progress value='1' class='' max='1' style='width:300px; height:20px; vertical-align: middle;'></progress>\n",
       "      100.00% [1/1 00:27&lt;00:00]\n",
       "    </div>\n",
       "    "
      ],
      "text/plain": [
       "<IPython.core.display.HTML object>"
      ]
     },
     "metadata": {},
     "output_type": "display_data"
    },
    {
     "name": "stdout",
     "output_type": "stream",
     "text": [
      "\n",
      "--> The keys in the returned dictionary of datasets are constructed as follows:\n",
      "\t'activity_id.institution_id.source_id.experiment_id.table_id.grid_label'\n"
     ]
    },
    {
     "data": {
      "text/html": [
       "\n",
       "<style>\n",
       "    /* Turns off some styling */\n",
       "    progress {\n",
       "        /* gets rid of default border in Firefox and Opera. */\n",
       "        border: none;\n",
       "        /* Needs to be in here for Safari polyfill so background images work as expected. */\n",
       "        background-size: auto;\n",
       "    }\n",
       "    progress:not([value]), progress:not([value])::-webkit-progress-bar {\n",
       "        background: repeating-linear-gradient(45deg, #7e7e7e, #7e7e7e 10px, #5c5c5c 10px, #5c5c5c 20px);\n",
       "    }\n",
       "    .progress-bar-interrupted, .progress-bar-interrupted::-webkit-progress-bar {\n",
       "        background: #F44336;\n",
       "    }\n",
       "</style>\n"
      ],
      "text/plain": [
       "<IPython.core.display.HTML object>"
      ]
     },
     "metadata": {},
     "output_type": "display_data"
    },
    {
     "data": {
      "text/html": [
       "\n",
       "    <div>\n",
       "      <progress value='2' class='' max='2' style='width:300px; height:20px; vertical-align: middle;'></progress>\n",
       "      100.00% [2/2 00:28&lt;00:00]\n",
       "    </div>\n",
       "    "
      ],
      "text/plain": [
       "<IPython.core.display.HTML object>"
      ]
     },
     "metadata": {},
     "output_type": "display_data"
    }
   ],
   "source": [
    "dset_dict_vol = GFDL_OM4p5B_filtered_vol.to_dataset_dict(\n",
    "    xarray_open_kwargs={\"consolidated\": True, \"decode_times\": True, \"use_cftime\": True}\n",
    ")\n",
    "dset_dict_area = GFDL_OM4p5B_filtered_area.to_dataset_dict(\n",
    "    xarray_open_kwargs={\"consolidated\": True, \"decode_times\": True, \"use_cftime\": True}\n",
    ")\n",
    "# dset_dict_norm = GFDL_OM4p5B_filtered_norm.to_dataset_dict(\n",
    "#     xarray_open_kwargs={\"consolidated\": True, \"decode_times\": True, \"use_cftime\": True}\n",
    "# )\n",
    "dset_dict_cello = GFDL_OM4p5B_filtered_cello.to_dataset_dict(\n",
    "    xarray_open_kwargs={\"consolidated\": True, \"decode_times\": True, \"use_cftime\": True}\n",
    ")\n",
    "\n",
    "#setting up volcello and areacello\n",
    "temp = dset_dict_cello['OMIP.NOAA-GFDL.GFDL-OM4p5B.omip1.Ofx.gr']\n",
    "areas = temp['areacello']\n",
    "temp = dset_dict_cello['OMIP.NOAA-GFDL.GFDL-OM4p5B.omip1.Omon.gr']\n",
    "volumes = temp['volcello'].isel(lev=0)\n",
    "total_volume = volumes.sum(dim=['lat', 'lon'])\n",
    "total_area = areas.sum(dim=['lat', 'lon'])\n",
    "\n",
    "#loading other data\n",
    "vol_data = dset_dict_vol['OMIP.NOAA-GFDL.GFDL-OM4p5B.omip1.Omon.gr']\n",
    "area_data = dset_dict_area['OMIP.NOAA-GFDL.GFDL-OM4p5B.omip1.Omon.gr']\n",
    "# norm_data = dset_dict_norm['OMIP.NOAA-GFDL.GFDL-OM4p5B.omip1.Omon.gr']"
   ]
  },
  {
   "cell_type": "code",
   "execution_count": null,
   "metadata": {},
   "outputs": [
    {
     "data": {
      "image/png": "[encoded data removed]",
      "text/plain": [
       "<Figure size 640x480 with 1 Axes>"
      ]
     },
     "metadata": {},
     "output_type": "display_data"
    }
   ],
   "source": [
    "for var in vol_data.data_vars.values():\n",
    "    try:\n",
    "        ((var.isel(lev=0) * volumes).sum(dim=['lat', 'lon']) / total_volume).groupby('time.year').mean().plot()\n",
    "    \n",
    "    except:\n",
    "        ((var.isel(lev_partial=0) * volumes).sum(dim=['lat', 'lon']) / total_volume).groupby('time.year').mean().plot()\n",
    "    \n",
    "    plt.ylabel(var.name)\n",
    "    plt.show()"
   ]
  },
  {
   "cell_type": "code",
   "execution_count": null,
   "metadata": {},
   "outputs": [
    {
     "data": {
      "image/png": "[encoded data removed]",
      "text/plain": [
       "<Figure size 640x480 with 1 Axes>"
      ]
     },
     "metadata": {},
     "output_type": "display_data"
    },
    {
     "ename": "ValueError",
     "evalue": "Dimensions {'lev_partial'} do not exist. Expected one or more of ('lat', 'lon')",
     "output_type": "error",
     "traceback": [
      "\u001b[1;31m---------------------------------------------------------------------------\u001b[0m",
      "\u001b[1;31mKeyError\u001b[0m                                  Traceback (most recent call last)",
      "File \u001b[1;32mc:\\Users\\hiros\\anaconda3\\envs\\e440\\lib\\site-packages\\xarray\\core\\dataarray.py:811\u001b[0m, in \u001b[0;36mDataArray._getitem_coord\u001b[1;34m(self, key)\u001b[0m\n\u001b[0;32m    810\u001b[0m \u001b[38;5;28;01mtry\u001b[39;00m:\n\u001b[1;32m--> 811\u001b[0m     var \u001b[38;5;241m=\u001b[39m \u001b[38;5;28;43mself\u001b[39;49m\u001b[38;5;241;43m.\u001b[39;49m\u001b[43m_coords\u001b[49m\u001b[43m[\u001b[49m\u001b[43mkey\u001b[49m\u001b[43m]\u001b[49m\n\u001b[0;32m    812\u001b[0m \u001b[38;5;28;01mexcept\u001b[39;00m \u001b[38;5;167;01mKeyError\u001b[39;00m:\n",
      "\u001b[1;31mKeyError\u001b[0m: 'time.year'",
      "\nDuring handling of the above exception, another exception occurred:\n",
      "\u001b[1;31mKeyError\u001b[0m                                  Traceback (most recent call last)",
      "Cell \u001b[1;32mIn[16], line 3\u001b[0m\n\u001b[0;32m      2\u001b[0m \u001b[38;5;28;01mtry\u001b[39;00m:\n\u001b[1;32m----> 3\u001b[0m     ((\u001b[43mvar\u001b[49m\u001b[38;5;241;43m.\u001b[39;49m\u001b[43mgroupby\u001b[49m\u001b[43m(\u001b[49m\u001b[38;5;124;43m'\u001b[39;49m\u001b[38;5;124;43mtime.year\u001b[39;49m\u001b[38;5;124;43m'\u001b[39;49m\u001b[43m)\u001b[49m\u001b[38;5;241m.\u001b[39mmean() \u001b[38;5;241m*\u001b[39m areas)\u001b[38;5;241m.\u001b[39msum(dim\u001b[38;5;241m=\u001b[39m[\u001b[38;5;124m'\u001b[39m\u001b[38;5;124mlat\u001b[39m\u001b[38;5;124m'\u001b[39m, \u001b[38;5;124m'\u001b[39m\u001b[38;5;124mlon\u001b[39m\u001b[38;5;124m'\u001b[39m]) \u001b[38;5;241m/\u001b[39m total_area)\u001b[38;5;241m.\u001b[39mplot()\n\u001b[0;32m      4\u001b[0m \u001b[38;5;28;01mexcept\u001b[39;00m:\n",
      "File \u001b[1;32mc:\\Users\\hiros\\anaconda3\\envs\\e440\\lib\\site-packages\\xarray\\core\\dataarray.py:6623\u001b[0m, in \u001b[0;36mDataArray.groupby\u001b[1;34m(self, group, squeeze, restore_coord_dims)\u001b[0m\n\u001b[0;32m   6622\u001b[0m _validate_groupby_squeeze(squeeze)\n\u001b[1;32m-> 6623\u001b[0m rgrouper \u001b[38;5;241m=\u001b[39m \u001b[43mResolvedUniqueGrouper\u001b[49m\u001b[43m(\u001b[49m\u001b[43mUniqueGrouper\u001b[49m\u001b[43m(\u001b[49m\u001b[43m)\u001b[49m\u001b[43m,\u001b[49m\u001b[43m \u001b[49m\u001b[43mgroup\u001b[49m\u001b[43m,\u001b[49m\u001b[43m \u001b[49m\u001b[38;5;28;43mself\u001b[39;49m\u001b[43m)\u001b[49m\n\u001b[0;32m   6624\u001b[0m \u001b[38;5;28;01mreturn\u001b[39;00m DataArrayGroupBy(\n\u001b[0;32m   6625\u001b[0m     \u001b[38;5;28mself\u001b[39m,\n\u001b[0;32m   6626\u001b[0m     (rgrouper,),\n\u001b[0;32m   6627\u001b[0m     squeeze\u001b[38;5;241m=\u001b[39msqueeze,\n\u001b[0;32m   6628\u001b[0m     restore_coord_dims\u001b[38;5;241m=\u001b[39mrestore_coord_dims,\n\u001b[0;32m   6629\u001b[0m )\n",
      "File \u001b[1;32m<string>:6\u001b[0m, in \u001b[0;36m__init__\u001b[1;34m(self, grouper, group, obj)\u001b[0m\n",
      "File \u001b[1;32mc:\\Users\\hiros\\anaconda3\\envs\\e440\\lib\\site-packages\\xarray\\core\\groupby.py:339\u001b[0m, in \u001b[0;36mResolvedGrouper.__post_init__\u001b[1;34m(self)\u001b[0m\n\u001b[0;32m    338\u001b[0m \u001b[38;5;28;01mdef\u001b[39;00m\u001b[38;5;250m \u001b[39m\u001b[38;5;21m__post_init__\u001b[39m(\u001b[38;5;28mself\u001b[39m) \u001b[38;5;241m-\u001b[39m\u001b[38;5;241m>\u001b[39m \u001b[38;5;28;01mNone\u001b[39;00m:\n\u001b[1;32m--> 339\u001b[0m     \u001b[38;5;28mself\u001b[39m\u001b[38;5;241m.\u001b[39mgroup: T_Group \u001b[38;5;241m=\u001b[39m \u001b[43m_resolve_group\u001b[49m\u001b[43m(\u001b[49m\u001b[38;5;28;43mself\u001b[39;49m\u001b[38;5;241;43m.\u001b[39;49m\u001b[43mobj\u001b[49m\u001b[43m,\u001b[49m\u001b[43m \u001b[49m\u001b[38;5;28;43mself\u001b[39;49m\u001b[38;5;241;43m.\u001b[39;49m\u001b[43mgroup\u001b[49m\u001b[43m)\u001b[49m\n\u001b[0;32m    341\u001b[0m     (\n\u001b[0;32m    342\u001b[0m         \u001b[38;5;28mself\u001b[39m\u001b[38;5;241m.\u001b[39mgroup1d,\n\u001b[0;32m    343\u001b[0m         \u001b[38;5;28mself\u001b[39m\u001b[38;5;241m.\u001b[39mstacked_obj,\n\u001b[0;32m    344\u001b[0m         \u001b[38;5;28mself\u001b[39m\u001b[38;5;241m.\u001b[39mstacked_dim,\n\u001b[0;32m    345\u001b[0m         \u001b[38;5;28mself\u001b[39m\u001b[38;5;241m.\u001b[39minserted_dims,\n\u001b[0;32m    346\u001b[0m     ) \u001b[38;5;241m=\u001b[39m _ensure_1d(group\u001b[38;5;241m=\u001b[39m\u001b[38;5;28mself\u001b[39m\u001b[38;5;241m.\u001b[39mgroup, obj\u001b[38;5;241m=\u001b[39m\u001b[38;5;28mself\u001b[39m\u001b[38;5;241m.\u001b[39mobj)\n",
      "File \u001b[1;32mc:\\Users\\hiros\\anaconda3\\envs\\e440\\lib\\site-packages\\xarray\\core\\groupby.py:638\u001b[0m, in \u001b[0;36m_resolve_group\u001b[1;34m(obj, group)\u001b[0m\n\u001b[0;32m    633\u001b[0m     \u001b[38;5;28;01mraise\u001b[39;00m \u001b[38;5;167;01mTypeError\u001b[39;00m(\n\u001b[0;32m    634\u001b[0m         \u001b[38;5;124m\"\u001b[39m\u001b[38;5;124m`group` must be an xarray.DataArray or the \u001b[39m\u001b[38;5;124m\"\u001b[39m\n\u001b[0;32m    635\u001b[0m         \u001b[38;5;124m\"\u001b[39m\u001b[38;5;124mname of an xarray variable or dimension. \u001b[39m\u001b[38;5;124m\"\u001b[39m\n\u001b[0;32m    636\u001b[0m         \u001b[38;5;124mf\u001b[39m\u001b[38;5;124m\"\u001b[39m\u001b[38;5;124mReceived \u001b[39m\u001b[38;5;132;01m{\u001b[39;00mgroup\u001b[38;5;132;01m!r}\u001b[39;00m\u001b[38;5;124m instead.\u001b[39m\u001b[38;5;124m\"\u001b[39m\n\u001b[0;32m    637\u001b[0m     )\n\u001b[1;32m--> 638\u001b[0m group \u001b[38;5;241m=\u001b[39m \u001b[43mobj\u001b[49m\u001b[43m[\u001b[49m\u001b[43mgroup\u001b[49m\u001b[43m]\u001b[49m\n\u001b[0;32m    639\u001b[0m \u001b[38;5;28;01mif\u001b[39;00m group\u001b[38;5;241m.\u001b[39mname \u001b[38;5;129;01mnot\u001b[39;00m \u001b[38;5;129;01min\u001b[39;00m obj\u001b[38;5;241m.\u001b[39m_indexes \u001b[38;5;129;01mand\u001b[39;00m group\u001b[38;5;241m.\u001b[39mname \u001b[38;5;129;01min\u001b[39;00m obj\u001b[38;5;241m.\u001b[39mdims:\n\u001b[0;32m    640\u001b[0m     \u001b[38;5;66;03m# DummyGroups should not appear on groupby results\u001b[39;00m\n",
      "File \u001b[1;32mc:\\Users\\hiros\\anaconda3\\envs\\e440\\lib\\site-packages\\xarray\\core\\dataarray.py:820\u001b[0m, in \u001b[0;36mDataArray.__getitem__\u001b[1;34m(self, key)\u001b[0m\n\u001b[0;32m    819\u001b[0m \u001b[38;5;28;01mif\u001b[39;00m \u001b[38;5;28misinstance\u001b[39m(key, \u001b[38;5;28mstr\u001b[39m):\n\u001b[1;32m--> 820\u001b[0m     \u001b[38;5;28;01mreturn\u001b[39;00m \u001b[38;5;28;43mself\u001b[39;49m\u001b[38;5;241;43m.\u001b[39;49m\u001b[43m_getitem_coord\u001b[49m\u001b[43m(\u001b[49m\u001b[43mkey\u001b[49m\u001b[43m)\u001b[49m\n\u001b[0;32m    821\u001b[0m \u001b[38;5;28;01melse\u001b[39;00m:\n\u001b[0;32m    822\u001b[0m     \u001b[38;5;66;03m# xarray-style array indexing\u001b[39;00m\n",
      "File \u001b[1;32mc:\\Users\\hiros\\anaconda3\\envs\\e440\\lib\\site-packages\\xarray\\core\\dataarray.py:814\u001b[0m, in \u001b[0;36mDataArray._getitem_coord\u001b[1;34m(self, key)\u001b[0m\n\u001b[0;32m    813\u001b[0m     dim_sizes \u001b[38;5;241m=\u001b[39m \u001b[38;5;28mdict\u001b[39m(\u001b[38;5;28mzip\u001b[39m(\u001b[38;5;28mself\u001b[39m\u001b[38;5;241m.\u001b[39mdims, \u001b[38;5;28mself\u001b[39m\u001b[38;5;241m.\u001b[39mshape))\n\u001b[1;32m--> 814\u001b[0m     _, key, var \u001b[38;5;241m=\u001b[39m \u001b[43m_get_virtual_variable\u001b[49m\u001b[43m(\u001b[49m\u001b[38;5;28;43mself\u001b[39;49m\u001b[38;5;241;43m.\u001b[39;49m\u001b[43m_coords\u001b[49m\u001b[43m,\u001b[49m\u001b[43m \u001b[49m\u001b[43mkey\u001b[49m\u001b[43m,\u001b[49m\u001b[43m \u001b[49m\u001b[43mdim_sizes\u001b[49m\u001b[43m)\u001b[49m\n\u001b[0;32m    816\u001b[0m \u001b[38;5;28;01mreturn\u001b[39;00m \u001b[38;5;28mself\u001b[39m\u001b[38;5;241m.\u001b[39m_replace_maybe_drop_dims(var, name\u001b[38;5;241m=\u001b[39mkey)\n",
      "File \u001b[1;32mc:\\Users\\hiros\\anaconda3\\envs\\e440\\lib\\site-packages\\xarray\\core\\dataset.py:199\u001b[0m, in \u001b[0;36m_get_virtual_variable\u001b[1;34m(variables, key, dim_sizes)\u001b[0m\n\u001b[0;32m    198\u001b[0m ref_name, var_name \u001b[38;5;241m=\u001b[39m split_key\n\u001b[1;32m--> 199\u001b[0m ref_var \u001b[38;5;241m=\u001b[39m \u001b[43mvariables\u001b[49m\u001b[43m[\u001b[49m\u001b[43mref_name\u001b[49m\u001b[43m]\u001b[49m\n\u001b[0;32m    201\u001b[0m \u001b[38;5;28;01mif\u001b[39;00m _contains_datetime_like_objects(ref_var):\n",
      "\u001b[1;31mKeyError\u001b[0m: 'time'",
      "\nDuring handling of the above exception, another exception occurred:\n",
      "\u001b[1;31mValueError\u001b[0m                                Traceback (most recent call last)",
      "Cell \u001b[1;32mIn[16], line 5\u001b[0m\n\u001b[0;32m      3\u001b[0m     ((var\u001b[38;5;241m.\u001b[39mgroupby(\u001b[38;5;124m'\u001b[39m\u001b[38;5;124mtime.year\u001b[39m\u001b[38;5;124m'\u001b[39m)\u001b[38;5;241m.\u001b[39mmean() \u001b[38;5;241m*\u001b[39m areas)\u001b[38;5;241m.\u001b[39msum(dim\u001b[38;5;241m=\u001b[39m[\u001b[38;5;124m'\u001b[39m\u001b[38;5;124mlat\u001b[39m\u001b[38;5;124m'\u001b[39m, \u001b[38;5;124m'\u001b[39m\u001b[38;5;124mlon\u001b[39m\u001b[38;5;124m'\u001b[39m]) \u001b[38;5;241m/\u001b[39m total_area)\u001b[38;5;241m.\u001b[39mplot()\n\u001b[0;32m      4\u001b[0m \u001b[38;5;28;01mexcept\u001b[39;00m:\n\u001b[1;32m----> 5\u001b[0m     ((\u001b[43mvar\u001b[49m\u001b[38;5;241;43m.\u001b[39;49m\u001b[43misel\u001b[49m\u001b[43m(\u001b[49m\u001b[43mlev_partial\u001b[49m\u001b[38;5;241;43m=\u001b[39;49m\u001b[38;5;241;43m0\u001b[39;49m\u001b[43m)\u001b[49m\u001b[38;5;241m.\u001b[39mgroupby(\u001b[38;5;124m'\u001b[39m\u001b[38;5;124mtime.year\u001b[39m\u001b[38;5;124m'\u001b[39m)\u001b[38;5;241m.\u001b[39mmean() \u001b[38;5;241m*\u001b[39m areas)\u001b[38;5;241m.\u001b[39msum(dim\u001b[38;5;241m=\u001b[39m[\u001b[38;5;124m'\u001b[39m\u001b[38;5;124mlat\u001b[39m\u001b[38;5;124m'\u001b[39m, \u001b[38;5;124m'\u001b[39m\u001b[38;5;124mlon\u001b[39m\u001b[38;5;124m'\u001b[39m]) \u001b[38;5;241m/\u001b[39m total_area)\u001b[38;5;241m.\u001b[39mplot()\n\u001b[0;32m      8\u001b[0m plt\u001b[38;5;241m.\u001b[39mylabel(var\u001b[38;5;241m.\u001b[39mname)\n\u001b[0;32m      9\u001b[0m plt\u001b[38;5;241m.\u001b[39mshow()\n",
      "File \u001b[1;32mc:\\Users\\hiros\\anaconda3\\envs\\e440\\lib\\site-packages\\xarray\\core\\dataarray.py:1421\u001b[0m, in \u001b[0;36mDataArray.isel\u001b[1;34m(self, indexers, drop, missing_dims, **indexers_kwargs)\u001b[0m\n\u001b[0;32m   1416\u001b[0m     \u001b[38;5;28;01mreturn\u001b[39;00m \u001b[38;5;28mself\u001b[39m\u001b[38;5;241m.\u001b[39m_from_temp_dataset(ds)\n\u001b[0;32m   1418\u001b[0m \u001b[38;5;66;03m# Much faster algorithm for when all indexers are ints, slices, one-dimensional\u001b[39;00m\n\u001b[0;32m   1419\u001b[0m \u001b[38;5;66;03m# lists, or zero or one-dimensional np.ndarray's\u001b[39;00m\n\u001b[1;32m-> 1421\u001b[0m variable \u001b[38;5;241m=\u001b[39m \u001b[38;5;28;43mself\u001b[39;49m\u001b[38;5;241;43m.\u001b[39;49m\u001b[43m_variable\u001b[49m\u001b[38;5;241;43m.\u001b[39;49m\u001b[43misel\u001b[49m\u001b[43m(\u001b[49m\u001b[43mindexers\u001b[49m\u001b[43m,\u001b[49m\u001b[43m \u001b[49m\u001b[43mmissing_dims\u001b[49m\u001b[38;5;241;43m=\u001b[39;49m\u001b[43mmissing_dims\u001b[49m\u001b[43m)\u001b[49m\n\u001b[0;32m   1422\u001b[0m indexes, index_variables \u001b[38;5;241m=\u001b[39m isel_indexes(\u001b[38;5;28mself\u001b[39m\u001b[38;5;241m.\u001b[39mxindexes, indexers)\n\u001b[0;32m   1424\u001b[0m coords \u001b[38;5;241m=\u001b[39m {}\n",
      "File \u001b[1;32mc:\\Users\\hiros\\anaconda3\\envs\\e440\\lib\\site-packages\\xarray\\core\\variable.py:1375\u001b[0m, in \u001b[0;36mVariable.isel\u001b[1;34m(self, indexers, missing_dims, **indexers_kwargs)\u001b[0m\n\u001b[0;32m   1351\u001b[0m \u001b[38;5;250m\u001b[39m\u001b[38;5;124;03m\"\"\"Return a new array indexed along the specified dimension(s).\u001b[39;00m\n\u001b[0;32m   1352\u001b[0m \n\u001b[0;32m   1353\u001b[0m \u001b[38;5;124;03mParameters\u001b[39;00m\n\u001b[1;32m   (...)\u001b[0m\n\u001b[0;32m   1371\u001b[0m \u001b[38;5;124;03m    indexer, in which case the data will be a copy.\u001b[39;00m\n\u001b[0;32m   1372\u001b[0m \u001b[38;5;124;03m\"\"\"\u001b[39;00m\n\u001b[0;32m   1373\u001b[0m indexers \u001b[38;5;241m=\u001b[39m either_dict_or_kwargs(indexers, indexers_kwargs, \u001b[38;5;124m\"\u001b[39m\u001b[38;5;124misel\u001b[39m\u001b[38;5;124m\"\u001b[39m)\n\u001b[1;32m-> 1375\u001b[0m indexers \u001b[38;5;241m=\u001b[39m \u001b[43mdrop_dims_from_indexers\u001b[49m\u001b[43m(\u001b[49m\u001b[43mindexers\u001b[49m\u001b[43m,\u001b[49m\u001b[43m \u001b[49m\u001b[38;5;28;43mself\u001b[39;49m\u001b[38;5;241;43m.\u001b[39;49m\u001b[43mdims\u001b[49m\u001b[43m,\u001b[49m\u001b[43m \u001b[49m\u001b[43mmissing_dims\u001b[49m\u001b[43m)\u001b[49m\n\u001b[0;32m   1377\u001b[0m key \u001b[38;5;241m=\u001b[39m \u001b[38;5;28mtuple\u001b[39m(indexers\u001b[38;5;241m.\u001b[39mget(dim, \u001b[38;5;28mslice\u001b[39m(\u001b[38;5;28;01mNone\u001b[39;00m)) \u001b[38;5;28;01mfor\u001b[39;00m dim \u001b[38;5;129;01min\u001b[39;00m \u001b[38;5;28mself\u001b[39m\u001b[38;5;241m.\u001b[39mdims)\n\u001b[0;32m   1378\u001b[0m \u001b[38;5;28;01mreturn\u001b[39;00m \u001b[38;5;28mself\u001b[39m[key]\n",
      "File \u001b[1;32mc:\\Users\\hiros\\anaconda3\\envs\\e440\\lib\\site-packages\\xarray\\core\\utils.py:858\u001b[0m, in \u001b[0;36mdrop_dims_from_indexers\u001b[1;34m(indexers, dims, missing_dims)\u001b[0m\n\u001b[0;32m    856\u001b[0m     invalid \u001b[38;5;241m=\u001b[39m indexers\u001b[38;5;241m.\u001b[39mkeys() \u001b[38;5;241m-\u001b[39m \u001b[38;5;28mset\u001b[39m(dims)\n\u001b[0;32m    857\u001b[0m     \u001b[38;5;28;01mif\u001b[39;00m invalid:\n\u001b[1;32m--> 858\u001b[0m         \u001b[38;5;28;01mraise\u001b[39;00m \u001b[38;5;167;01mValueError\u001b[39;00m(\n\u001b[0;32m    859\u001b[0m             \u001b[38;5;124mf\u001b[39m\u001b[38;5;124m\"\u001b[39m\u001b[38;5;124mDimensions \u001b[39m\u001b[38;5;132;01m{\u001b[39;00minvalid\u001b[38;5;132;01m}\u001b[39;00m\u001b[38;5;124m do not exist. Expected one or more of \u001b[39m\u001b[38;5;132;01m{\u001b[39;00mdims\u001b[38;5;132;01m}\u001b[39;00m\u001b[38;5;124m\"\u001b[39m\n\u001b[0;32m    860\u001b[0m         )\n\u001b[0;32m    862\u001b[0m     \u001b[38;5;28;01mreturn\u001b[39;00m indexers\n\u001b[0;32m    864\u001b[0m \u001b[38;5;28;01melif\u001b[39;00m missing_dims \u001b[38;5;241m==\u001b[39m \u001b[38;5;124m\"\u001b[39m\u001b[38;5;124mwarn\u001b[39m\u001b[38;5;124m\"\u001b[39m:\n\u001b[0;32m    865\u001b[0m     \u001b[38;5;66;03m# don't modify input\u001b[39;00m\n",
      "\u001b[1;31mValueError\u001b[0m: Dimensions {'lev_partial'} do not exist. Expected one or more of ('lat', 'lon')"
     ]
    }
   ],
   "source": [
    "#creates an unknown error, error can be ignored as it does not impact function of code\n",
    "\n",
    "for var in area_data.data_vars.values():\n",
    "    try:\n",
    "        ((var.groupby('time.year').mean() * areas).sum(dim=['lat', 'lon']) / total_area).plot()\n",
    "    except:\n",
    "        ((var.isel(lev_partial=0).groupby('time.year').mean() * areas).sum(dim=['lat', 'lon']) / total_area).plot()\n",
    "    \n",
    "    \n",
    "    plt.ylabel(var.name)\n",
    "    plt.show()"
   ]
  },
  {
   "cell_type": "code",
   "execution_count": null,
   "metadata": {},
   "outputs": [],
   "source": []
  }
 ],
 "metadata": {
  "kernelspec": {
   "display_name": "e440",
   "language": "python",
   "name": "python3"
  },
  "language_info": {
   "codemirror_mode": {
    "name": "ipython",
    "version": 3
   },
   "file_extension": ".py",
   "mimetype": "text/x-python",
   "name": "python",
   "nbconvert_exporter": "python",
   "pygments_lexer": "ipython3",
   "version": "3.10.16"
  }
 },
 "nbformat": 4,
 "nbformat_minor": 2
}
